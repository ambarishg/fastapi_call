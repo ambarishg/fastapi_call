{
 "cells": [
  {
   "cell_type": "code",
   "execution_count": 30,
   "id": "9a6c9474",
   "metadata": {},
   "outputs": [],
   "source": [
    "import requests\n",
    "\n",
    "url = \"http://20.120.85.148:8000/api/upload_docs/\""
   ]
  },
  {
   "cell_type": "code",
   "execution_count": 31,
   "id": "13cc06f5",
   "metadata": {},
   "outputs": [],
   "source": [
    "def get_predictions(file_path,category,):\n",
    "\n",
    "    with open(file_path, \"rb\") as f:\n",
    "        files = {\"file_data\": (file_path, f)}\n",
    "        data = {\"category\": category}\n",
    "        response = requests.post(url, files=files, data=data)\n",
    "\n",
    "    return response.json()"
   ]
  },
  {
   "cell_type": "code",
   "execution_count": 32,
   "id": "6204a246",
   "metadata": {},
   "outputs": [
    {
     "name": "stdout",
     "output_type": "stream",
     "text": [
      "{'message': 'File uploaded successfully', 'prediction': 'Cassava Bacterial Blight (CBB)'}\n"
     ]
    }
   ],
   "source": [
    "file_path = \"1001320321.jpg\"\n",
    "category = \"Cassava\"\n",
    "\n",
    "response = get_predictions(file_path, category)\n",
    "print(response)\n"
   ]
  },
  {
   "cell_type": "code",
   "execution_count": 34,
   "id": "2a155d02",
   "metadata": {},
   "outputs": [
    {
     "name": "stdout",
     "output_type": "stream",
     "text": [
      "{'message': 'File uploaded successfully', 'prediction': 'brown_spot'}\n"
     ]
    }
   ],
   "source": [
    "file_path = \"100067.jpg\"\n",
    "category = \"Paddy\"\n",
    "response = get_predictions(file_path, category)\n",
    "print(response)"
   ]
  },
  {
   "cell_type": "code",
   "execution_count": 35,
   "id": "1f83981c",
   "metadata": {},
   "outputs": [
    {
     "name": "stdout",
     "output_type": "stream",
     "text": [
      "{'message': 'File uploaded successfully', 'prediction': 'RedRot'}\n"
     ]
    }
   ],
   "source": [
    "file_path = \"redrot (124).jpeg\"\n",
    "category = \"Sugarcane\"\n",
    "response = get_predictions(file_path, category)\n",
    "print(response)"
   ]
  },
  {
   "cell_type": "code",
   "execution_count": 37,
   "id": "3e4e445c",
   "metadata": {},
   "outputs": [
    {
     "name": "stdout",
     "output_type": "stream",
     "text": [
      "{'message': 'File uploaded successfully', 'prediction': 'Gall Midge'}\n"
     ]
    }
   ],
   "source": [
    "file_path = \"IMG_20211106_161221 (Custom).jpg\"\n",
    "category = \"Mango\"\n",
    "response = get_predictions(file_path, category)\n",
    "print(response)"
   ]
  },
  {
   "cell_type": "code",
   "execution_count": 39,
   "id": "4c6f3198",
   "metadata": {},
   "outputs": [
    {
     "name": "stdout",
     "output_type": "stream",
     "text": [
      "{'message': 'File uploaded successfully', 'prediction': 'Salmonella'}\n"
     ]
    }
   ],
   "source": [
    "file_path = \"pcrsalmo.0.jpg_aug28.JPG\"\n",
    "category = \"Poultry\"\n",
    "response = get_predictions(file_path, category)\n",
    "print(response)"
   ]
  },
  {
   "cell_type": "code",
   "execution_count": null,
   "id": "bd40a6d5",
   "metadata": {},
   "outputs": [],
   "source": []
  }
 ],
 "metadata": {
  "kernelspec": {
   "display_name": ".venv",
   "language": "python",
   "name": "python3"
  },
  "language_info": {
   "codemirror_mode": {
    "name": "ipython",
    "version": 3
   },
   "file_extension": ".py",
   "mimetype": "text/x-python",
   "name": "python",
   "nbconvert_exporter": "python",
   "pygments_lexer": "ipython3",
   "version": "3.12.1"
  }
 },
 "nbformat": 4,
 "nbformat_minor": 5
}
