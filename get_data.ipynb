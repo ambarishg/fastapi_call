{
 "cells": [
  {
   "cell_type": "code",
   "execution_count": 2,
   "id": "9a6c9474",
   "metadata": {},
   "outputs": [],
   "source": [
    "import requests\n",
    "\n",
    "url = \"http://20.120.85.148:8000/api/upload_docs/\""
   ]
  },
  {
   "cell_type": "code",
   "execution_count": 3,
   "id": "6204a246",
   "metadata": {},
   "outputs": [
    {
     "name": "stdout",
     "output_type": "stream",
     "text": [
      "{'message': 'File uploaded successfully', 'prediction': 'Cassava Bacterial Blight (CBB)'}\n"
     ]
    }
   ],
   "source": [
    "file_path = \"1001320321.jpg\"\n",
    "\n",
    "with open(file_path, \"rb\") as f:\n",
    "    files = {\"file_data\": (file_path, f)}\n",
    "    data = {\"category\": \"Cassava\"}\n",
    "    response = requests.post(url, files=files, data=data)\n",
    "\n",
    "print(response.json())\n"
   ]
  },
  {
   "cell_type": "code",
   "execution_count": 4,
   "id": "2a155d02",
   "metadata": {},
   "outputs": [
    {
     "name": "stdout",
     "output_type": "stream",
     "text": [
      "{'message': 'File uploaded successfully', 'prediction': 'brown_spot'}\n"
     ]
    }
   ],
   "source": [
    "file_path = \"100067.jpg\"\n",
    "\n",
    "with open(file_path, \"rb\") as f:\n",
    "    files = {\"file_data\": (file_path, f)}\n",
    "    data = {\"category\": \"Paddy\"}\n",
    "    response = requests.post(url, files=files, data=data)\n",
    "\n",
    "print(response.json())"
   ]
  },
  {
   "cell_type": "code",
   "execution_count": null,
   "id": "1f83981c",
   "metadata": {},
   "outputs": [],
   "source": []
  }
 ],
 "metadata": {
  "kernelspec": {
   "display_name": ".venv",
   "language": "python",
   "name": "python3"
  },
  "language_info": {
   "codemirror_mode": {
    "name": "ipython",
    "version": 3
   },
   "file_extension": ".py",
   "mimetype": "text/x-python",
   "name": "python",
   "nbconvert_exporter": "python",
   "pygments_lexer": "ipython3",
   "version": "3.12.1"
  }
 },
 "nbformat": 4,
 "nbformat_minor": 5
}
